{
 "cells": [
  {
   "cell_type": "code",
   "execution_count": 16,
   "id": "2300229f",
   "metadata": {},
   "outputs": [],
   "source": [
    "# Intialization\n",
    "import os\n",
    "import sys\n",
    "\n",
    "os.environ[\"SPARK_HOME\"] = \"/home/talentum/spark\"\n",
    "os.environ[\"PYLIB\"] = os.environ[\"SPARK_HOME\"] + \"/python/lib\"\n",
    "# In below two lines, use /usr/bin/python2.7 if you want to use Python 2\n",
    "os.environ[\"PYSPARK_PYTHON\"] = \"/usr/bin/python3.6\" \n",
    "os.environ[\"PYSPARK_DRIVER_PYTHON\"] = \"/usr/bin/python3\"\n",
    "sys.path.insert(0, os.environ[\"PYLIB\"] +\"/py4j-0.10.7-src.zip\")\n",
    "sys.path.insert(0, os.environ[\"PYLIB\"] +\"/pyspark.zip\")\n",
    "\n",
    "# NOTE: Whichever package you want mention here.\n",
    "# os.environ['PYSPARK_SUBMIT_ARGS'] = '--packages com.databricks:spark-xml_2.11:0.6.0 pyspark-shell' \n",
    "# os.environ['PYSPARK_SUBMIT_ARGS'] = '--packages org.apache.spark:spark-avro_2.11:2.4.0 pyspark-shell'\n",
    "os.environ['PYSPARK_SUBMIT_ARGS'] = '--packages com.databricks:spark-xml_2.11:0.6.0,org.apache.spark:spark-avro_2.11:2.4.3 pyspark-shell'\n",
    "# os.environ['PYSPARK_SUBMIT_ARGS'] = '--packages com.databricks:spark-xml_2.11:0.6.0,org.apache.spark:spark-avro_2.11:2.4.0 pyspark-shell'"
   ]
  },
  {
   "cell_type": "code",
   "execution_count": 17,
   "id": "85ce7afc",
   "metadata": {},
   "outputs": [],
   "source": [
    "#Entrypoint 2.x\n",
    "from pyspark.sql import SparkSession\n",
    "spark = SparkSession.builder.appName(\"HiveTableCreation\").enableHiveSupport().getOrCreate()\n",
    "\n",
    "# On yarn:\n",
    "# spark = SparkSession.builder.appName(\"Spark SQL basic example\").enableHiveSupport().master(\"yarn\").getOrCreate()\n",
    "# specify .master(\"yarn\")\n",
    "\n",
    "sc = spark.sparkContext"
   ]
  },
  {
   "cell_type": "code",
   "execution_count": 18,
   "id": "3e4eebe1",
   "metadata": {},
   "outputs": [
    {
     "data": {
      "text/plain": [
       "DataFrame[]"
      ]
     },
     "execution_count": 18,
     "metadata": {},
     "output_type": "execute_result"
    }
   ],
   "source": [
    "spark.sql(\"DROP TABLE IF EXISTS taxi_trips\")\n",
    "spark.sql(\"\"\"\n",
    "\n",
    "CREATE TABLE taxi_trips (\n",
    "\n",
    "    VendorID INT,\n",
    "\n",
    "    lpep_pickup_datetime TIMESTAMP,\n",
    "\n",
    "    lpep_dropoff_datetime TIMESTAMP,\n",
    "\n",
    "    store_and_fwd_flag STRING,\n",
    "\n",
    "    RatecodeID INT,\n",
    "\n",
    "    PULocationID INT,\n",
    "\n",
    "    DOLocationID INT,\n",
    "\n",
    "    passenger_count INT,\n",
    "\n",
    "    trip_distance FLOAT,\n",
    "\n",
    "    fare_amount FLOAT,\n",
    "\n",
    "    extra FLOAT,\n",
    "\n",
    "    mta_tax FLOAT,\n",
    "\n",
    "    tip_amount FLOAT,\n",
    "\n",
    "    tolls_amount FLOAT,\n",
    "\n",
    "    improvement_surcharge FLOAT,\n",
    "\n",
    "    total_amount FLOAT,\n",
    "\n",
    "    payment_type STRING,\n",
    "\n",
    "    trip_type STRING,\n",
    "\n",
    "    congestion_surcharge FLOAT\n",
    "\n",
    ")\n",
    "\n",
    "USING csv\n",
    "\n",
    "OPTIONS (\n",
    "\n",
    "    header 'true',\n",
    "\n",
    "    inferSchema 'true',\n",
    "\n",
    "    delimiter ','\n",
    "\n",
    ")\n",
    "\n",
    "\"\"\")"
   ]
  },
  {
   "cell_type": "code",
   "execution_count": 19,
   "id": "4bad6583",
   "metadata": {},
   "outputs": [
    {
     "name": "stdout",
     "output_type": "stream",
     "text": [
      "+--------+--------------------+---------------------+------------------+----------+------------+------------+---------------+-------------+-----------+-----+-------+----------+------------+---------------------+------------+------------+---------+--------------------+\n",
      "|VendorID|lpep_pickup_datetime|lpep_dropoff_datetime|store_and_fwd_flag|RatecodeID|PULocationID|DOLocationID|passenger_count|trip_distance|fare_amount|extra|mta_tax|tip_amount|tolls_amount|improvement_surcharge|total_amount|payment_type|trip_type|congestion_surcharge|\n",
      "+--------+--------------------+---------------------+------------------+----------+------------+------------+---------------+-------------+-----------+-----+-------+----------+------------+---------------------+------------+------------+---------+--------------------+\n",
      "|       2| 2020-01-01 06:47:28|  2020-01-01 06:52:54|                 N|         1|          74|          75|              1|         1.47|        6.5|  0.0|    0.5|       0.0|         0.0|                  0.3|         7.3|           2|        1|                 0.0|\n",
      "|       2| 2020-01-01 13:25:34|  2020-01-01 13:30:43|                 N|         1|          74|          75|              1|         1.49|        6.5|  0.0|    0.5|       0.0|         0.0|                  0.3|         7.3|           2|        1|                 0.0|\n",
      "|       2| 2020-01-01 14:20:35|  2020-01-01 14:26:25|                 N|         1|          74|          75|              1|         1.31|        6.5|  0.0|    0.5|       0.0|         0.0|                  0.3|         7.3|           2|        1|                 0.0|\n",
      "|       2| 2020-01-02 06:56:47|  2020-01-02 07:03:03|                 N|         1|          74|          75|              1|         1.43|        6.5|  0.0|    0.5|       0.0|         0.0|                  0.3|         7.3|           2|        1|                 0.0|\n",
      "|       2| 2020-01-02 09:34:46|  2020-01-02 09:41:02|                 N|         1|          74|          75|              1|          1.1|        6.5|  0.0|    0.5|       0.0|         0.0|                  0.3|         7.3|           2|        1|                 0.0|\n",
      "|       2| 2020-01-02 09:37:42|  2020-01-02 09:44:34|                 N|         1|          74|          75|              1|         1.24|        6.5|  0.0|    0.5|       0.0|         0.0|                  0.3|         7.3|           2|        1|                 0.0|\n",
      "|       2| 2020-01-02 10:23:34|  2020-01-02 10:29:57|                 N|         1|          74|          75|              1|         1.33|        6.5|  0.0|    0.5|       0.0|         0.0|                  0.3|         7.3|           2|        1|                 0.0|\n",
      "|       2| 2020-01-03 09:41:28|  2020-01-03 09:48:02|                 N|         1|          74|          75|              1|         1.35|        6.5|  0.0|    0.5|       0.0|         0.0|                  0.3|         7.3|           2|        1|                 0.0|\n",
      "|       2| 2020-01-03 09:02:30|  2020-01-03 09:10:00|                 N|         1|          74|          75|              1|         1.19|        6.5|  0.0|    0.5|       0.0|         0.0|                  0.3|         7.3|           2|        1|                 0.0|\n",
      "|       2| 2020-01-03 10:43:08|  2020-01-03 10:48:46|                 N|         1|          74|          75|              1|         1.35|        6.5|  0.0|    0.5|       0.0|         0.0|                  0.3|         7.3|           2|        1|                 0.0|\n",
      "|       2| 2020-01-03 12:22:12|  2020-01-03 12:27:21|                 N|         1|          74|          75|              1|         1.49|        6.5|  0.0|    0.5|       0.0|         0.0|                  0.3|         7.3|           2|        1|                 0.0|\n",
      "|       2| 2020-01-03 12:43:32|  2020-01-03 12:49:12|                 N|         1|          74|          75|              1|         1.49|        6.5|  0.0|    0.5|       0.0|         0.0|                  0.3|         7.3|           2|        1|                 0.0|\n",
      "|       2| 2020-01-03 12:32:31|  2020-01-03 12:39:25|                 N|         1|          74|          75|              1|         1.27|        6.5|  0.0|    0.5|       0.0|         0.0|                  0.3|         7.3|           2|        1|                 0.0|\n",
      "|       2| 2020-01-03 14:28:29|  2020-01-03 14:34:18|                 N|         1|          74|          75|              1|         1.39|        6.5|  0.0|    0.5|       0.0|         0.0|                  0.3|         7.3|           2|        1|                 0.0|\n",
      "|       2| 2020-01-04 07:31:00|  2020-01-04 07:36:54|                 N|         1|          74|          75|              1|         1.26|        6.5|  0.0|    0.5|       0.0|         0.0|                  0.3|         7.3|           2|        1|                 0.0|\n",
      "|       2| 2020-01-04 12:47:36|  2020-01-04 12:54:54|                 N|         1|          74|          75|              1|         1.18|        6.5|  0.0|    0.5|       0.0|         0.0|                  0.3|         7.3|           2|        1|                 0.0|\n",
      "|       2| 2020-01-04 14:38:36|  2020-01-04 14:45:09|                 N|         1|          74|          75|              1|         1.15|        6.5|  0.0|    0.5|       0.0|         0.0|                  0.3|         7.3|           2|        1|                 0.0|\n",
      "|       2| 2020-01-04 15:40:58|  2020-01-04 15:47:15|                 N|         1|          74|          75|              1|          1.1|        6.5|  0.0|    0.5|       0.0|         0.0|                  0.3|         7.3|           2|        1|                 0.0|\n",
      "|       2| 2020-01-04 15:48:56|  2020-01-04 15:55:04|                 N|         1|          74|          75|              1|         1.23|        6.5|  0.0|    0.5|       0.0|         0.0|                  0.3|         7.3|           2|        1|                 0.0|\n",
      "|       2| 2020-01-04 17:56:21|  2020-01-04 18:02:30|                 N|         1|          74|          75|              1|         1.17|        6.5|  0.0|    0.5|       0.0|         0.0|                  0.3|         7.3|           2|        1|                 0.0|\n",
      "+--------+--------------------+---------------------+------------------+----------+------------+------------+---------------+-------------+-----------+-----+-------+----------+------------+---------------------+------------+------------+---------+--------------------+\n",
      "only showing top 20 rows\n",
      "\n"
     ]
    }
   ],
   "source": [
    "df = spark.read.csv(\"2020_taxi_trips.csv\", header=True, inferSchema=True)\n",
    "\n",
    "\n",
    "# Display the DataFrame\n",
    "\n",
    "df.show()"
   ]
  },
  {
   "cell_type": "code",
   "execution_count": 20,
   "id": "36fc02a6",
   "metadata": {},
   "outputs": [],
   "source": [
    "# Assuming you have a DataFrame named df\n",
    "df.write.mode(\"overwrite\").saveAsTable(\"taxi_trips\")"
   ]
  },
  {
   "cell_type": "code",
   "execution_count": null,
   "id": "3f50d674",
   "metadata": {},
   "outputs": [],
   "source": []
  }
 ],
 "metadata": {
  "kernelspec": {
   "display_name": "Python 3",
   "language": "python",
   "name": "python3"
  },
  "language_info": {
   "codemirror_mode": {
    "name": "ipython",
    "version": 3
   },
   "file_extension": ".py",
   "mimetype": "text/x-python",
   "name": "python",
   "nbconvert_exporter": "python",
   "pygments_lexer": "ipython3",
   "version": "3.6.9"
  }
 },
 "nbformat": 4,
 "nbformat_minor": 5
}
