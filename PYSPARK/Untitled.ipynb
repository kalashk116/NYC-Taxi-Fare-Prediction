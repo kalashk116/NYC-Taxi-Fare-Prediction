{
 "cells": [
  {
   "cell_type": "code",
   "execution_count": 1,
   "id": "881e4f82",
   "metadata": {},
   "outputs": [],
   "source": [
    "# Intialization\n",
    "import os\n",
    "import sys\n",
    "\n",
    "os.environ[\"SPARK_HOME\"] = \"/home/talentum/spark\"\n",
    "os.environ[\"PYLIB\"] = os.environ[\"SPARK_HOME\"] + \"/python/lib\"\n",
    "# In below two lines, use /usr/bin/python2.7 if you want to use Python 2\n",
    "os.environ[\"PYSPARK_PYTHON\"] = \"/usr/bin/python3.6\" \n",
    "os.environ[\"PYSPARK_DRIVER_PYTHON\"] = \"/usr/bin/python3\"\n",
    "sys.path.insert(0, os.environ[\"PYLIB\"] +\"/py4j-0.10.7-src.zip\")\n",
    "sys.path.insert(0, os.environ[\"PYLIB\"] +\"/pyspark.zip\")\n",
    "\n",
    "# NOTE: Whichever package you want mention here.\n",
    "# os.environ['PYSPARK_SUBMIT_ARGS'] = '--packages com.databricks:spark-xml_2.11:0.6.0 pyspark-shell' \n",
    "# os.environ['PYSPARK_SUBMIT_ARGS'] = '--packages org.apache.spark:spark-avro_2.11:2.4.0 pyspark-shell'\n",
    "os.environ['PYSPARK_SUBMIT_ARGS'] = '--packages com.databricks:spark-xml_2.11:0.6.0,org.apache.spark:spark-avro_2.11:2.4.3 pyspark-shell'\n",
    "# os.environ['PYSPARK_SUBMIT_ARGS'] = '--packages com.databricks:spark-xml_2.11:0.6.0,org.apache.spark:spark-avro_2.11:2.4.0 pyspark-shell'"
   ]
  },
  {
   "cell_type": "code",
   "execution_count": 2,
   "id": "219c63d7",
   "metadata": {},
   "outputs": [],
   "source": [
    "#Entrypoint 2.x\n",
    "from pyspark.sql import SparkSession\n",
    "spark = SparkSession.builder.appName(\"NYC taxi 2020\").enableHiveSupport().getOrCreate()\n",
    "\n",
    "# On yarn:\n",
    "# spark = SparkSession.builder.appName(\"Spark SQL basic example\").enableHiveSupport().master(\"yarn\").getOrCreate()\n",
    "# specify .master(\"yarn\")\n",
    "\n",
    "sc = spark.sparkContext"
   ]
  },
  {
   "cell_type": "code",
   "execution_count": 3,
   "id": "20aabaf3",
   "metadata": {},
   "outputs": [],
   "source": [
    "df = spark.read.csv(\"2020_taxi_trips.csv\", header=True, inferSchema=True)"
   ]
  },
  {
   "cell_type": "code",
   "execution_count": 6,
   "id": "f39785e6",
   "metadata": {},
   "outputs": [
    {
     "name": "stdout",
     "output_type": "stream",
     "text": [
      "+--------+--------------------+---------------------+------------------+----------+------------+------------+---------------+-------------+-----------+-----+-------+----------+------------+---------------------+------------+------------+---------+--------------------+\n",
      "|VendorID|lpep_pickup_datetime|lpep_dropoff_datetime|store_and_fwd_flag|RatecodeID|PULocationID|DOLocationID|passenger_count|trip_distance|fare_amount|extra|mta_tax|tip_amount|tolls_amount|improvement_surcharge|total_amount|payment_type|trip_type|congestion_surcharge|\n",
      "+--------+--------------------+---------------------+------------------+----------+------------+------------+---------------+-------------+-----------+-----+-------+----------+------------+---------------------+------------+------------+---------+--------------------+\n",
      "|       2| 2020-01-01 06:47:28|  2020-01-01 06:52:54|                 N|         1|          74|          75|              1|         1.47|        6.5|  0.0|    0.5|       0.0|         0.0|                  0.3|         7.3|           2|        1|                 0.0|\n",
      "|       2| 2020-01-01 13:25:34|  2020-01-01 13:30:43|                 N|         1|          74|          75|              1|         1.49|        6.5|  0.0|    0.5|       0.0|         0.0|                  0.3|         7.3|           2|        1|                 0.0|\n",
      "|       2| 2020-01-01 14:20:35|  2020-01-01 14:26:25|                 N|         1|          74|          75|              1|         1.31|        6.5|  0.0|    0.5|       0.0|         0.0|                  0.3|         7.3|           2|        1|                 0.0|\n",
      "|       2| 2020-01-02 06:56:47|  2020-01-02 07:03:03|                 N|         1|          74|          75|              1|         1.43|        6.5|  0.0|    0.5|       0.0|         0.0|                  0.3|         7.3|           2|        1|                 0.0|\n",
      "|       2| 2020-01-02 09:34:46|  2020-01-02 09:41:02|                 N|         1|          74|          75|              1|          1.1|        6.5|  0.0|    0.5|       0.0|         0.0|                  0.3|         7.3|           2|        1|                 0.0|\n",
      "|       2| 2020-01-02 09:37:42|  2020-01-02 09:44:34|                 N|         1|          74|          75|              1|         1.24|        6.5|  0.0|    0.5|       0.0|         0.0|                  0.3|         7.3|           2|        1|                 0.0|\n",
      "|       2| 2020-01-02 10:23:34|  2020-01-02 10:29:57|                 N|         1|          74|          75|              1|         1.33|        6.5|  0.0|    0.5|       0.0|         0.0|                  0.3|         7.3|           2|        1|                 0.0|\n",
      "|       2| 2020-01-03 09:41:28|  2020-01-03 09:48:02|                 N|         1|          74|          75|              1|         1.35|        6.5|  0.0|    0.5|       0.0|         0.0|                  0.3|         7.3|           2|        1|                 0.0|\n",
      "|       2| 2020-01-03 09:02:30|  2020-01-03 09:10:00|                 N|         1|          74|          75|              1|         1.19|        6.5|  0.0|    0.5|       0.0|         0.0|                  0.3|         7.3|           2|        1|                 0.0|\n",
      "|       2| 2020-01-03 10:43:08|  2020-01-03 10:48:46|                 N|         1|          74|          75|              1|         1.35|        6.5|  0.0|    0.5|       0.0|         0.0|                  0.3|         7.3|           2|        1|                 0.0|\n",
      "|       2| 2020-01-03 12:22:12|  2020-01-03 12:27:21|                 N|         1|          74|          75|              1|         1.49|        6.5|  0.0|    0.5|       0.0|         0.0|                  0.3|         7.3|           2|        1|                 0.0|\n",
      "|       2| 2020-01-03 12:43:32|  2020-01-03 12:49:12|                 N|         1|          74|          75|              1|         1.49|        6.5|  0.0|    0.5|       0.0|         0.0|                  0.3|         7.3|           2|        1|                 0.0|\n",
      "|       2| 2020-01-03 12:32:31|  2020-01-03 12:39:25|                 N|         1|          74|          75|              1|         1.27|        6.5|  0.0|    0.5|       0.0|         0.0|                  0.3|         7.3|           2|        1|                 0.0|\n",
      "|       2| 2020-01-03 14:28:29|  2020-01-03 14:34:18|                 N|         1|          74|          75|              1|         1.39|        6.5|  0.0|    0.5|       0.0|         0.0|                  0.3|         7.3|           2|        1|                 0.0|\n",
      "|       2| 2020-01-04 07:31:00|  2020-01-04 07:36:54|                 N|         1|          74|          75|              1|         1.26|        6.5|  0.0|    0.5|       0.0|         0.0|                  0.3|         7.3|           2|        1|                 0.0|\n",
      "|       2| 2020-01-04 12:47:36|  2020-01-04 12:54:54|                 N|         1|          74|          75|              1|         1.18|        6.5|  0.0|    0.5|       0.0|         0.0|                  0.3|         7.3|           2|        1|                 0.0|\n",
      "|       2| 2020-01-04 14:38:36|  2020-01-04 14:45:09|                 N|         1|          74|          75|              1|         1.15|        6.5|  0.0|    0.5|       0.0|         0.0|                  0.3|         7.3|           2|        1|                 0.0|\n",
      "|       2| 2020-01-04 15:40:58|  2020-01-04 15:47:15|                 N|         1|          74|          75|              1|          1.1|        6.5|  0.0|    0.5|       0.0|         0.0|                  0.3|         7.3|           2|        1|                 0.0|\n",
      "|       2| 2020-01-04 15:48:56|  2020-01-04 15:55:04|                 N|         1|          74|          75|              1|         1.23|        6.5|  0.0|    0.5|       0.0|         0.0|                  0.3|         7.3|           2|        1|                 0.0|\n",
      "|       2| 2020-01-04 17:56:21|  2020-01-04 18:02:30|                 N|         1|          74|          75|              1|         1.17|        6.5|  0.0|    0.5|       0.0|         0.0|                  0.3|         7.3|           2|        1|                 0.0|\n",
      "+--------+--------------------+---------------------+------------------+----------+------------+------------+---------------+-------------+-----------+-----+-------+----------+------------+---------------------+------------+------------+---------+--------------------+\n",
      "only showing top 20 rows\n",
      "\n"
     ]
    }
   ],
   "source": [
    "df.show()\n"
   ]
  },
  {
   "cell_type": "code",
   "execution_count": 20,
   "id": "d21c3ac8",
   "metadata": {},
   "outputs": [
    {
     "data": {
      "text/plain": [
       "['VendorID',\n",
       " 'lpep_pickup_datetime',\n",
       " 'lpep_dropoff_datetime',\n",
       " 'store_and_fwd_flag',\n",
       " 'RatecodeID',\n",
       " 'PULocationID',\n",
       " 'DOLocationID',\n",
       " 'passenger_count',\n",
       " 'trip_distance',\n",
       " 'fare_amount',\n",
       " 'extra',\n",
       " 'mta_tax',\n",
       " 'tip_amount',\n",
       " 'tolls_amount',\n",
       " 'improvement_surcharge',\n",
       " 'total_amount',\n",
       " 'payment_type',\n",
       " 'trip_type',\n",
       " 'congestion_surcharge',\n",
       " 'pickup_date',\n",
       " 'pickup_time',\n",
       " 'dropoff_date',\n",
       " 'dropoff_time']"
      ]
     },
     "execution_count": 20,
     "metadata": {},
     "output_type": "execute_result"
    }
   ],
   "source": [
    "df.columns"
   ]
  },
  {
   "cell_type": "code",
   "execution_count": 12,
   "id": "0ac1b7e4",
   "metadata": {},
   "outputs": [],
   "source": [
    "from pyspark.sql import SparkSession\n",
    "\n",
    "from pyspark.sql.functions import to_date, date_format\n"
   ]
  },
  {
   "cell_type": "code",
   "execution_count": 30,
   "id": "8eeed52f",
   "metadata": {},
   "outputs": [],
   "source": [
    "filtered_df = df.filter(df.total_amount >= 0)\n",
    "filtered_df = filtered_df.filter(filtered_df.trip_distance > 0)\n",
    "\n",
    "filtered_df = filtered_df.filter(\n",
    "    ~filtered_df.PULocationID.isin([264, 265]) &\n",
    "    ~filtered_df.DOLocationID.isin([264, 265]))"
   ]
  },
  {
   "cell_type": "code",
   "execution_count": null,
   "id": "765ae92b",
   "metadata": {},
   "outputs": [],
   "source": [
    "filtered_df = filtered_df.dropna()"
   ]
  },
  {
   "cell_type": "code",
   "execution_count": 31,
   "id": "357e031b",
   "metadata": {},
   "outputs": [],
   "source": [
    "# Create new columns for dropoff date and dropoff time\n",
    "\n",
    "df = df.withColumn(\"dropoff_date\", to_date(df.lpep_dropoff_datetime)).withColumn(\"dropoff_time\", date_format(df.lpep_dropoff_datetime, \"HH:mm:ss\"))\n",
    "df_ = df.withColumn(\"pickup_date\", to_date(df.lpep_pickup_datetime)).withColumn(\"pickup_time\", date_format(df.lpep_pickup_datetime, \"HH:mm:ss\"))"
   ]
  },
  {
   "cell_type": "code",
   "execution_count": null,
   "id": "afa4e2cd",
   "metadata": {},
   "outputs": [],
   "source": [
    "from pyspark.sql.functions import monotonically_increasing_id\n",
    "#create column for index\n",
    "# Create an index column\n",
    "df = df.withColumn(\"index\", monotonically_increasing_id())"
   ]
  },
  {
   "cell_type": "code",
   "execution_count": 33,
   "id": "a2cf26ae",
   "metadata": {},
   "outputs": [
    {
     "name": "stdout",
     "output_type": "stream",
     "text": [
      "+------------+------------+---------------+-------------+------------+-----------+-----------+------------+------------+-----+\n",
      "|PULocationID|DOLocationID|passenger_count|trip_distance|total_amount|pickup_date|pickup_time|dropoff_date|dropoff_time|index|\n",
      "+------------+------------+---------------+-------------+------------+-----------+-----------+------------+------------+-----+\n",
      "|          74|          75|              1|         1.47|         7.3| 2020-01-01|   06:47:28|  2020-01-01|    06:52:54|    0|\n",
      "|          74|          75|              1|         1.49|         7.3| 2020-01-01|   13:25:34|  2020-01-01|    13:30:43|    1|\n",
      "|          74|          75|              1|         1.31|         7.3| 2020-01-01|   14:20:35|  2020-01-01|    14:26:25|    2|\n",
      "|          74|          75|              1|         1.43|         7.3| 2020-01-02|   06:56:47|  2020-01-02|    07:03:03|    3|\n",
      "|          74|          75|              1|          1.1|         7.3| 2020-01-02|   09:34:46|  2020-01-02|    09:41:02|    4|\n",
      "|          74|          75|              1|         1.24|         7.3| 2020-01-02|   09:37:42|  2020-01-02|    09:44:34|    5|\n",
      "|          74|          75|              1|         1.33|         7.3| 2020-01-02|   10:23:34|  2020-01-02|    10:29:57|    6|\n",
      "|          74|          75|              1|         1.35|         7.3| 2020-01-03|   09:41:28|  2020-01-03|    09:48:02|    7|\n",
      "|          74|          75|              1|         1.19|         7.3| 2020-01-03|   09:02:30|  2020-01-03|    09:10:00|    8|\n",
      "|          74|          75|              1|         1.35|         7.3| 2020-01-03|   10:43:08|  2020-01-03|    10:48:46|    9|\n",
      "|          74|          75|              1|         1.49|         7.3| 2020-01-03|   12:22:12|  2020-01-03|    12:27:21|   10|\n",
      "|          74|          75|              1|         1.49|         7.3| 2020-01-03|   12:43:32|  2020-01-03|    12:49:12|   11|\n",
      "|          74|          75|              1|         1.27|         7.3| 2020-01-03|   12:32:31|  2020-01-03|    12:39:25|   12|\n",
      "|          74|          75|              1|         1.39|         7.3| 2020-01-03|   14:28:29|  2020-01-03|    14:34:18|   13|\n",
      "|          74|          75|              1|         1.26|         7.3| 2020-01-04|   07:31:00|  2020-01-04|    07:36:54|   14|\n",
      "|          74|          75|              1|         1.18|         7.3| 2020-01-04|   12:47:36|  2020-01-04|    12:54:54|   15|\n",
      "|          74|          75|              1|         1.15|         7.3| 2020-01-04|   14:38:36|  2020-01-04|    14:45:09|   16|\n",
      "|          74|          75|              1|          1.1|         7.3| 2020-01-04|   15:40:58|  2020-01-04|    15:47:15|   17|\n",
      "|          74|          75|              1|         1.23|         7.3| 2020-01-04|   15:48:56|  2020-01-04|    15:55:04|   18|\n",
      "|          74|          75|              1|         1.17|         7.3| 2020-01-04|   17:56:21|  2020-01-04|    18:02:30|   19|\n",
      "+------------+------------+---------------+-------------+------------+-----------+-----------+------------+------------+-----+\n",
      "only showing top 20 rows\n",
      "\n"
     ]
    }
   ],
   "source": [
    "# Specify the columns to drop\n",
    "columns_to_drop = ['VendorID',\"lpep_pickup_datetime\",\"lpep_dropoff_datetime\" ,'store_and_fwd_flag', 'RatecodeID', 'fare_amount', 'extra', 'mta_tax', 'tip_amount', 'tolls_amount', 'improvement_surcharge', 'payment_type', 'trip_type', 'congestion_surcharge']\n",
    "\n",
    "# Drop the specified columns from the DataFrame\n",
    "filtered_df = df.drop(*columns_to_drop)\n",
    "\n",
    "# Display the updated DataFrame (optional)\n",
    "filtered_df.show()"
   ]
  },
  {
   "cell_type": "code",
   "execution_count": 48,
   "id": "6f95d6b3",
   "metadata": {},
   "outputs": [],
   "source": [
    "# Specify the output path for the CSV file (directory only)\n",
    "\n",
    "output_path = \"file:////home/talentum/output/filter_df\"  # No .csv at the end\n",
    "\n",
    "\n",
    "# Write the filtered DataFrame to CSV\n",
    "\n",
    "filtered_df.coalesce(1).write.mode(\"overwrite\").option(\"header\", \"true\").csv(output_path)"
   ]
  }
 ],
 "metadata": {
  "kernelspec": {
   "display_name": "Python 3",
   "language": "python",
   "name": "python3"
  },
  "language_info": {
   "codemirror_mode": {
    "name": "ipython",
    "version": 3
   },
   "file_extension": ".py",
   "mimetype": "text/x-python",
   "name": "python",
   "nbconvert_exporter": "python",
   "pygments_lexer": "ipython3",
   "version": "3.6.9"
  }
 },
 "nbformat": 4,
 "nbformat_minor": 5
}
