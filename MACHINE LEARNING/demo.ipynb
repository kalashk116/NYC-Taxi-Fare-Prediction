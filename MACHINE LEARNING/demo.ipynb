{
 "cells": [
  {
   "cell_type": "code",
   "execution_count": 1,
   "metadata": {},
   "outputs": [],
   "source": [
    "import sqlite3\n",
    "\n",
    "con = sqlite3.connect('taxi_fare_predictions.db')\n",
    "cur = con.cursor()\n"
   ]
  },
  {
   "cell_type": "code",
   "execution_count": 2,
   "metadata": {},
   "outputs": [
    {
     "data": {
      "text/plain": [
       "[(1,\n",
       "  '21',\n",
       "  5,\n",
       "  5,\n",
       "  'Bayside, Boro Zone, Queens',\n",
       "  'Kew Gardens Hills, Boro Zone, Queens',\n",
       "  20.48),\n",
       " (2,\n",
       "  '6',\n",
       "  1,\n",
       "  1,\n",
       "  'Arden Heights, Boro Zone, Staten Island',\n",
       "  'Ozone Park, Boro Zone, Queens',\n",
       "  91.41),\n",
       " (3,\n",
       "  '5',\n",
       "  9,\n",
       "  3,\n",
       "  'Brooklyn Navy Yard, Boro Zone, Brooklyn',\n",
       "  'Flatiron, Yellow Zone, Manhattan',\n",
       "  31.11)]"
      ]
     },
     "execution_count": 2,
     "metadata": {},
     "output_type": "execute_result"
    }
   ],
   "source": [
    "cur.execute('select * from predictions').fetchall()"
   ]
  }
 ],
 "metadata": {
  "kernelspec": {
   "display_name": "Python 3",
   "language": "python",
   "name": "python3"
  },
  "language_info": {
   "codemirror_mode": {
    "name": "ipython",
    "version": 3
   },
   "file_extension": ".py",
   "mimetype": "text/x-python",
   "name": "python",
   "nbconvert_exporter": "python",
   "pygments_lexer": "ipython3",
   "version": "3.12.6"
  }
 },
 "nbformat": 4,
 "nbformat_minor": 2
}
